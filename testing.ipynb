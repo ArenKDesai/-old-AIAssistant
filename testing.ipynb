{
 "cells": [
  {
   "cell_type": "code",
   "execution_count": 5,
   "metadata": {},
   "outputs": [
    {
     "name": "stderr",
     "output_type": "stream",
     "text": [
      "/tmp/ipykernel_4309/3871837519.py:52: DeprecationWarning: You're using 'as_dict = True'.get_access_token will return the token string directly in future versions. Please adjust your code accordingly, or use get_cached_token instead.\n",
      "  token_info = sp_oauth.get_access_token(code)\n"
     ]
    },
    {
     "name": "stdout",
     "output_type": "stream",
     "text": [
      "True\n"
     ]
    }
   ],
   "source": [
    "import spotipy\n",
    "from spotipy.oauth2 import SpotifyOAuth\n",
    "import time\n",
    "\n",
    "# Define your credentials and the scope\n",
    "SPOTIPY_CLIENT_ID = '3fccb06621ff49a8a034dcf0d14cca40'\n",
    "SPOTIPY_CLIENT_SECRET = '341325095ac241ceacc87f4687607a51'\n",
    "SPOTIPY_REDIRECT_URI = 'http://localhost:8888/callback'\n",
    "SCOPE = 'user-read-playback-state user-modify-playback-state user-read-currently-playing'\n",
    "\n",
    "# Create a SpotifyOAuth object\n",
    "sp_oauth = SpotifyOAuth(client_id=SPOTIPY_CLIENT_ID,\n",
    "                        client_secret=SPOTIPY_CLIENT_SECRET,\n",
    "                        redirect_uri=SPOTIPY_REDIRECT_URI,\n",
    "                        scope=SCOPE)\n",
    "\n",
    "# Get the authorization URL\n",
    "auth_url = sp_oauth.get_authorize_url()\n",
    "\n",
    "\n",
    "\n",
    "\n",
    "\n",
    "# After the user authorizes the application, they will be redirected to the redirect URI with a code in the URL\n",
    "\n",
    "# Extract the authorization code from the URL\n",
    "code = sp_oauth.parse_response_code(response)\n",
    "token_info = sp_oauth.get_access_token(code)\n",
    "\n",
    "# Create a Spotify object with the access token\n",
    "sp = spotipy.Spotify(auth=token_info['access_token'])\n",
    "\n",
    "\n",
    "print(sp.current_playback()['is_playing'])"
   ]
  },
  {
   "cell_type": "code",
   "execution_count": 8,
   "metadata": {},
   "outputs": [
    {
     "name": "stderr",
     "output_type": "stream",
     "text": [
      "100%|██████████| 5/5 [00:00<00:00,  9.92it/s]"
     ]
    },
    {
     "name": "stdout",
     "output_type": "stream",
     "text": [
      "done\n"
     ]
    },
    {
     "name": "stderr",
     "output_type": "stream",
     "text": [
      "\n"
     ]
    }
   ],
   "source": [
    "import requests\n",
    "\n",
    "CHUNK_SIZE = 1024\n",
    "url = \"https://api.elevenlabs.io/v1/text-to-speech/<voice-id>\"\n",
    "\n",
    "headers = {\n",
    "  \"Accept\": \"audio/mpeg\",\n",
    "  \"Content-Type\": \"application/json\",\n",
    "  \"xi-api-key\": \"<xi-api-key>\"\n",
    "}\n",
    "\n",
    "data = {\n",
    "  \"text\": '''Born and raised in the charming south, \n",
    "  I can add a touch of sweet southern hospitality \n",
    "  to your audiobooks and podcasts''',\n",
    "  \"model_id\": \"eleven_monolingual_v1\",\n",
    "  \"voice_settings\": {\n",
    "    \"stability\": 0.5,\n",
    "    \"similarity_boost\": 0.5\n",
    "  }\n",
    "}\n",
    "\n",
    "response = requests.post(url, json=data, headers=headers)\n",
    "with open('output.mp3', 'wb') as f:\n",
    "    for chunk in response.iter_content(chunk_size=CHUNK_SIZE):\n",
    "        if chunk:\n",
    "            f.write(chunk)\n"
   ]
  }
 ],
 "metadata": {
  "kernelspec": {
   "display_name": ".venv",
   "language": "python",
   "name": "python3"
  },
  "language_info": {
   "codemirror_mode": {
    "name": "ipython",
    "version": 3
   },
   "file_extension": ".py",
   "mimetype": "text/x-python",
   "name": "python",
   "nbconvert_exporter": "python",
   "pygments_lexer": "ipython3",
   "version": "3.11.2"
  }
 },
 "nbformat": 4,
 "nbformat_minor": 2
}
