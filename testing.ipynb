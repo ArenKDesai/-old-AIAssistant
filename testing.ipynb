{
 "cells": [
  {
   "cell_type": "code",
   "execution_count": 1,
   "metadata": {},
   "outputs": [
    {
     "name": "stdout",
     "output_type": "stream",
     "text": [
      "Please navigate to the following URL to authorize the application: https://accounts.spotify.com/authorize?client_id=3fccb06621ff49a8a034dcf0d14cca40&response_type=code&redirect_uri=http%3A%2F%2Flocalhost%3A8888%2Fcallback&scope=user-read-playback-state+user-modify-playback-state+user-read-currently-playing\n"
     ]
    },
    {
     "name": "stderr",
     "output_type": "stream",
     "text": [
      "/tmp/ipykernel_4309/2380045846.py:26: DeprecationWarning: You're using 'as_dict = True'.get_access_token will return the token string directly in future versions. Please adjust your code accordingly, or use get_cached_token instead.\n",
      "  token_info = sp_oauth.get_access_token(code)\n"
     ]
    },
    {
     "ename": "TypeError",
     "evalue": "'NoneType' object is not subscriptable",
     "output_type": "error",
     "traceback": [
      "\u001b[0;31m---------------------------------------------------------------------------\u001b[0m",
      "\u001b[0;31mTypeError\u001b[0m                                 Traceback (most recent call last)",
      "Cell \u001b[0;32mIn[1], line 32\u001b[0m\n\u001b[1;32m     28\u001b[0m \u001b[38;5;66;03m# Create a Spotify object with the access token\u001b[39;00m\n\u001b[1;32m     29\u001b[0m sp \u001b[38;5;241m=\u001b[39m spotipy\u001b[38;5;241m.\u001b[39mSpotify(auth\u001b[38;5;241m=\u001b[39mtoken_info[\u001b[38;5;124m'\u001b[39m\u001b[38;5;124maccess_token\u001b[39m\u001b[38;5;124m'\u001b[39m])\n\u001b[0;32m---> 32\u001b[0m \u001b[38;5;28mprint\u001b[39m(\u001b[43msp\u001b[49m\u001b[38;5;241;43m.\u001b[39;49m\u001b[43mcurrent_playback\u001b[49m\u001b[43m(\u001b[49m\u001b[43m)\u001b[49m\u001b[43m[\u001b[49m\u001b[38;5;124;43m'\u001b[39;49m\u001b[38;5;124;43mis_playing\u001b[39;49m\u001b[38;5;124;43m'\u001b[39;49m\u001b[43m]\u001b[49m)\n",
      "\u001b[0;31mTypeError\u001b[0m: 'NoneType' object is not subscriptable"
     ]
    }
   ],
   "source": [
    "import spotipy\n",
    "from spotipy.oauth2 import SpotifyOAuth\n",
    "import time\n",
    "\n",
    "# Define your credentials and the scope\n",
    "SPOTIPY_CLIENT_ID = '3fccb06621ff49a8a034dcf0d14cca40'\n",
    "SPOTIPY_CLIENT_SECRET = '341325095ac241ceacc87f4687607a51'\n",
    "SPOTIPY_REDIRECT_URI = 'http://localhost:8888/callback'\n",
    "SCOPE = 'user-read-playback-state user-modify-playback-state user-read-currently-playing'\n",
    "\n",
    "# Create a SpotifyOAuth object\n",
    "sp_oauth = SpotifyOAuth(client_id=SPOTIPY_CLIENT_ID,\n",
    "                        client_secret=SPOTIPY_CLIENT_SECRET,\n",
    "                        redirect_uri=SPOTIPY_REDIRECT_URI,\n",
    "                        scope=SCOPE)\n",
    "\n",
    "# Get the authorization URL\n",
    "auth_url = sp_oauth.get_authorize_url()\n",
    "\n",
    "import nest_asyncio\n",
    "import asyncio\n",
    "from pyppeteer import launch\n",
    "\n",
    "# Apply the nest_asyncio patch\n",
    "nest_asyncio.apply()\n",
    "\n",
    "def get_current_url():\n",
    "    async def main():\n",
    "        # Launch the browser\n",
    "        browser = await launch()\n",
    "        # Open a new page\n",
    "        page = await browser.newPage()\n",
    "        # Go to a webpage\n",
    "        await page.goto('https://www.example.com')\n",
    "        # Get the current URL\n",
    "        current_url = page.url\n",
    "        # Close the browser\n",
    "        await browser.close()\n",
    "        return current_url\n",
    "\n",
    "    # Run the async function and get the result\n",
    "    return asyncio.get_event_loop().run_until_complete(main())\n",
    "\n",
    "# Use the function to get the current URL\n",
    "response = get_current_url()\n",
    "\n",
    "\n",
    "# After the user authorizes the application, they will be redirected to the redirect URI with a code in the URL\n",
    "\n",
    "# Extract the authorization code from the URL\n",
    "code = sp_oauth.parse_response_code(response)\n",
    "token_info = sp_oauth.get_access_token(code)\n",
    "\n",
    "# Create a Spotify object with the access token\n",
    "sp = spotipy.Spotify(auth=token_info['access_token'])\n",
    "\n",
    "\n",
    "print(sp.current_playback()['is_playing'])"
   ]
  },
  {
   "cell_type": "code",
   "execution_count": 4,
   "metadata": {},
   "outputs": [
    {
     "name": "stderr",
     "output_type": "stream",
     "text": [
      "[INFO] Starting Chromium download.\n",
      "100%|██████████| 183M/183M [00:09<00:00, 19.5Mb/s] \n",
      "[INFO] Beginning extraction\n",
      "[INFO] Chromium extracted to: /home/aren/.local/share/pyppeteer/local-chromium/1181205\n"
     ]
    },
    {
     "name": "stdout",
     "output_type": "stream",
     "text": [
      "Current URL: https://www.example.com/\n"
     ]
    }
   ],
   "source": [
    "import nest_asyncio\n",
    "import asyncio\n",
    "from pyppeteer import launch\n",
    "\n",
    "# Apply the nest_asyncio patch\n",
    "nest_asyncio.apply()\n",
    "\n",
    "async def main():\n",
    "    # Launch the browser\n",
    "    browser = await launch()\n",
    "    # Open a new page\n",
    "    page = await browser.newPage()\n",
    "    # Go to a webpage\n",
    "    await page.goto('https://www.example.com')\n",
    "    # Get the current URL\n",
    "    current_url = page.url\n",
    "    print(\"Current URL:\", current_url)\n",
    "    # Close the browser\n",
    "    await browser.close()\n",
    "\n",
    "# Run the main function\n",
    "asyncio.get_event_loop().run_until_complete(main())\n"
   ]
  }
 ],
 "metadata": {
  "kernelspec": {
   "display_name": ".venv",
   "language": "python",
   "name": "python3"
  },
  "language_info": {
   "codemirror_mode": {
    "name": "ipython",
    "version": 3
   },
   "file_extension": ".py",
   "mimetype": "text/x-python",
   "name": "python",
   "nbconvert_exporter": "python",
   "pygments_lexer": "ipython3",
   "version": "3.11.2"
  }
 },
 "nbformat": 4,
 "nbformat_minor": 2
}
