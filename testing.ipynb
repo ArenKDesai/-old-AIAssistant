{
 "cells": [
  {
   "cell_type": "code",
   "execution_count": 20,
   "metadata": {},
   "outputs": [
    {
     "name": "stdout",
     "output_type": "stream",
     "text": [
      "Please navigate to the following URL to authorize the application: https://accounts.spotify.com/authorize?client_id=3fccb06621ff49a8a034dcf0d14cca40&response_type=code&redirect_uri=http%3A%2F%2Flocalhost%3A8888%2Fcallback&scope=user-read-playback-state+user-modify-playback-state+user-read-currently-playing\n"
     ]
    },
    {
     "name": "stderr",
     "output_type": "stream",
     "text": [
      "/tmp/ipykernel_255109/3063693004.py:26: DeprecationWarning: You're using 'as_dict = True'.get_access_token will return the token string directly in future versions. Please adjust your code accordingly, or use get_cached_token instead.\n",
      "  token_info = sp_oauth.get_access_token(code)\n"
     ]
    },
    {
     "name": "stdout",
     "output_type": "stream",
     "text": [
      "{'external_urls': {'spotify': 'https://open.spotify.com/playlist/0b9g2CLth0zShFcaLNNxY9'}, 'href': 'https://api.spotify.com/v1/playlists/0b9g2CLth0zShFcaLNNxY9', 'type': 'playlist', 'uri': 'spotify:playlist:0b9g2CLth0zShFcaLNNxY9'}\n",
      "{'album': {'album_type': 'album', 'artists': [{'external_urls': {'spotify': 'https://open.spotify.com/artist/02vrwnrNEeDRV96o9iPSYP'}, 'href': 'https://api.spotify.com/v1/artists/02vrwnrNEeDRV96o9iPSYP', 'id': '02vrwnrNEeDRV96o9iPSYP', 'name': 'sign crushes motorist', 'type': 'artist', 'uri': 'spotify:artist:02vrwnrNEeDRV96o9iPSYP'}], 'available_markets': ['AR', 'AU', 'AT', 'BE', 'BO', 'BR', 'BG', 'CA', 'CL', 'CO', 'CR', 'CY', 'CZ', 'DK', 'DO', 'DE', 'EC', 'EE', 'SV', 'FI', 'FR', 'GR', 'GT', 'HN', 'HK', 'HU', 'IS', 'IE', 'IT', 'LV', 'LT', 'LU', 'MY', 'MT', 'MX', 'NL', 'NZ', 'NI', 'NO', 'PA', 'PY', 'PE', 'PH', 'PL', 'PT', 'SG', 'SK', 'ES', 'SE', 'CH', 'TW', 'TR', 'UY', 'US', 'GB', 'AD', 'LI', 'MC', 'ID', 'JP', 'TH', 'VN', 'RO', 'IL', 'ZA', 'SA', 'AE', 'BH', 'QA', 'OM', 'KW', 'EG', 'MA', 'DZ', 'TN', 'LB', 'JO', 'PS', 'IN', 'BY', 'KZ', 'MD', 'UA', 'AL', 'BA', 'HR', 'ME', 'MK', 'RS', 'SI', 'KR', 'BD', 'PK', 'LK', 'GH', 'KE', 'NG', 'TZ', 'UG', 'AG', 'AM', 'BS', 'BB', 'BZ', 'BT', 'BW', 'BF', 'CV', 'CW', 'DM', 'FJ', 'GM', 'GE', 'GD', 'GW', 'GY', 'HT', 'JM', 'KI', 'LS', 'LR', 'MW', 'MV', 'ML', 'MH', 'FM', 'NA', 'NR', 'NE', 'PW', 'PG', 'PR', 'WS', 'SM', 'ST', 'SN', 'SC', 'SL', 'SB', 'KN', 'LC', 'VC', 'SR', 'TL', 'TO', 'TT', 'TV', 'VU', 'AZ', 'BN', 'BI', 'KH', 'CM', 'TD', 'KM', 'GQ', 'SZ', 'GA', 'GN', 'KG', 'LA', 'MO', 'MR', 'MN', 'NP', 'RW', 'TG', 'UZ', 'ZW', 'BJ', 'MG', 'MU', 'MZ', 'AO', 'CI', 'DJ', 'ZM', 'CD', 'CG', 'IQ', 'LY', 'TJ', 'VE', 'ET', 'XK'], 'external_urls': {'spotify': 'https://open.spotify.com/album/3yLxcdaNKhpogNECAju75d'}, 'href': 'https://api.spotify.com/v1/albums/3yLxcdaNKhpogNECAju75d', 'id': '3yLxcdaNKhpogNECAju75d', 'images': [{'height': 640, 'url': 'https://i.scdn.co/image/ab67616d0000b2739ff5156f825ae0e06e15ff46', 'width': 640}, {'height': 300, 'url': 'https://i.scdn.co/image/ab67616d00001e029ff5156f825ae0e06e15ff46', 'width': 300}, {'height': 64, 'url': 'https://i.scdn.co/image/ab67616d000048519ff5156f825ae0e06e15ff46', 'width': 64}], 'name': \"i'll be okay\", 'release_date': '2022-08-05', 'release_date_precision': 'day', 'total_tracks': 9, 'type': 'album', 'uri': 'spotify:album:3yLxcdaNKhpogNECAju75d'}, 'artists': [{'external_urls': {'spotify': 'https://open.spotify.com/artist/02vrwnrNEeDRV96o9iPSYP'}, 'href': 'https://api.spotify.com/v1/artists/02vrwnrNEeDRV96o9iPSYP', 'id': '02vrwnrNEeDRV96o9iPSYP', 'name': 'sign crushes motorist', 'type': 'artist', 'uri': 'spotify:artist:02vrwnrNEeDRV96o9iPSYP'}], 'available_markets': ['AR', 'AU', 'AT', 'BE', 'BO', 'BR', 'BG', 'CA', 'CL', 'CO', 'CR', 'CY', 'CZ', 'DK', 'DO', 'DE', 'EC', 'EE', 'SV', 'FI', 'FR', 'GR', 'GT', 'HN', 'HK', 'HU', 'IS', 'IE', 'IT', 'LV', 'LT', 'LU', 'MY', 'MT', 'MX', 'NL', 'NZ', 'NI', 'NO', 'PA', 'PY', 'PE', 'PH', 'PL', 'PT', 'SG', 'SK', 'ES', 'SE', 'CH', 'TW', 'TR', 'UY', 'US', 'GB', 'AD', 'LI', 'MC', 'ID', 'JP', 'TH', 'VN', 'RO', 'IL', 'ZA', 'SA', 'AE', 'BH', 'QA', 'OM', 'KW', 'EG', 'MA', 'DZ', 'TN', 'LB', 'JO', 'PS', 'IN', 'BY', 'KZ', 'MD', 'UA', 'AL', 'BA', 'HR', 'ME', 'MK', 'RS', 'SI', 'KR', 'BD', 'PK', 'LK', 'GH', 'KE', 'NG', 'TZ', 'UG', 'AG', 'AM', 'BS', 'BB', 'BZ', 'BT', 'BW', 'BF', 'CV', 'CW', 'DM', 'FJ', 'GM', 'GE', 'GD', 'GW', 'GY', 'HT', 'JM', 'KI', 'LS', 'LR', 'MW', 'MV', 'ML', 'MH', 'FM', 'NA', 'NR', 'NE', 'PW', 'PG', 'PR', 'WS', 'SM', 'ST', 'SN', 'SC', 'SL', 'SB', 'KN', 'LC', 'VC', 'SR', 'TL', 'TO', 'TT', 'TV', 'VU', 'AZ', 'BN', 'BI', 'KH', 'CM', 'TD', 'KM', 'GQ', 'SZ', 'GA', 'GN', 'KG', 'LA', 'MO', 'MR', 'MN', 'NP', 'RW', 'TG', 'UZ', 'ZW', 'BJ', 'MG', 'MU', 'MZ', 'AO', 'CI', 'DJ', 'ZM', 'CD', 'CG', 'IQ', 'LY', 'TJ', 'VE', 'ET', 'XK'], 'disc_number': 1, 'duration_ms': 140624, 'explicit': False, 'external_ids': {'isrc': 'GX5MY2242874'}, 'external_urls': {'spotify': 'https://open.spotify.com/track/5orN4HYGUJS3AqewwwFixi'}, 'href': 'https://api.spotify.com/v1/tracks/5orN4HYGUJS3AqewwwFixi', 'id': '5orN4HYGUJS3AqewwwFixi', 'is_local': False, 'name': 'Left', 'popularity': 68, 'preview_url': 'https://p.scdn.co/mp3-preview/3efe341e4e1d32f5b2b8cf18ab89b53269276123?cid=3fccb06621ff49a8a034dcf0d14cca40', 'track_number': 7, 'type': 'track', 'uri': 'spotify:track:5orN4HYGUJS3AqewwwFixi'}\n",
      "True\n"
     ]
    }
   ],
   "source": [
    "import spotipy\n",
    "from spotipy.oauth2 import SpotifyOAuth\n",
    "\n",
    "# Define your credentials and the scope\n",
    "SPOTIPY_CLIENT_ID = '3fccb06621ff49a8a034dcf0d14cca40'\n",
    "SPOTIPY_CLIENT_SECRET = '341325095ac241ceacc87f4687607a51'\n",
    "SPOTIPY_REDIRECT_URI = 'http://localhost:8888/callback'\n",
    "SCOPE = 'user-read-playback-state user-modify-playback-state user-read-currently-playing'\n",
    "\n",
    "# Create a SpotifyOAuth object\n",
    "sp_oauth = SpotifyOAuth(client_id=SPOTIPY_CLIENT_ID,\n",
    "                        client_secret=SPOTIPY_CLIENT_SECRET,\n",
    "                        redirect_uri=SPOTIPY_REDIRECT_URI,\n",
    "                        scope=SCOPE)\n",
    "\n",
    "# Get the authorization URL\n",
    "auth_url = sp_oauth.get_authorize_url()\n",
    "\n",
    "print(f'Please navigate to the following URL to authorize the application: {auth_url}')\n",
    "\n",
    "# After the user authorizes the application, they will be redirected to the redirect URI with a code in the URL\n",
    "response = input('Enter the URL you were redirected to: ')\n",
    "\n",
    "# Extract the authorization code from the URL\n",
    "code = sp_oauth.parse_response_code(response)\n",
    "token_info = sp_oauth.get_access_token(code)\n",
    "\n",
    "# Create a Spotify object with the access token\n",
    "sp = spotipy.Spotify(auth=token_info['access_token'])\n",
    "\n",
    "print(sp.current_playback()['context'])\n",
    "print(sp.current_playback()['item'])\n",
    "print(sp.current_playback()['is_playing'])"
   ]
  },
  {
   "cell_type": "code",
   "execution_count": 28,
   "metadata": {},
   "outputs": [
    {
     "ename": "TypeError",
     "evalue": "'HTTPResponse' object is not callable",
     "output_type": "error",
     "traceback": [
      "\u001b[0;31m---------------------------------------------------------------------------\u001b[0m",
      "\u001b[0;31mTypeError\u001b[0m                                 Traceback (most recent call last)",
      "Cell \u001b[0;32mIn[28], line 2\u001b[0m\n\u001b[1;32m      1\u001b[0m \u001b[38;5;28;01mimport\u001b[39;00m \u001b[38;5;21;01murllib\u001b[39;00m\u001b[38;5;21;01m.\u001b[39;00m\u001b[38;5;21;01mrequest\u001b[39;00m\n\u001b[0;32m----> 2\u001b[0m webUrl \u001b[38;5;241m=\u001b[39m \u001b[43murllib\u001b[49m\u001b[38;5;241;43m.\u001b[39;49m\u001b[43mrequest\u001b[49m\u001b[38;5;241;43m.\u001b[39;49m\u001b[43murlopen\u001b[49m\u001b[43m(\u001b[49m\u001b[38;5;124;43m'\u001b[39;49m\u001b[38;5;124;43mhttps://www.youtube.com\u001b[39;49m\u001b[38;5;124;43m'\u001b[39;49m\u001b[43m)\u001b[49m\u001b[43m(\u001b[49m\u001b[43m)\u001b[49m\n",
      "\u001b[0;31mTypeError\u001b[0m: 'HTTPResponse' object is not callable"
     ]
    }
   ],
   "source": [
    "import urllib.request\n",
    "webUrl = urllib.request.urlopen('https://www.youtube.com')"
   ]
  }
 ],
 "metadata": {
  "kernelspec": {
   "display_name": ".venv",
   "language": "python",
   "name": "python3"
  },
  "language_info": {
   "codemirror_mode": {
    "name": "ipython",
    "version": 3
   },
   "file_extension": ".py",
   "mimetype": "text/x-python",
   "name": "python",
   "nbconvert_exporter": "python",
   "pygments_lexer": "ipython3",
   "version": "3.11.2"
  }
 },
 "nbformat": 4,
 "nbformat_minor": 2
}
