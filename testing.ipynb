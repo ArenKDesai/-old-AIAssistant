{
 "cells": [
  {
   "cell_type": "code",
   "execution_count": null,
   "metadata": {},
   "outputs": [],
   "source": [
    "from direct.showbase.ShowBase import ShowBase\n",
    "from direct.actor.Actor import Actor\n",
    "from panda3d.core import loadPrcFileData\n",
    "import simplepbr\n",
    "\n",
    "class MyApp(ShowBase):\n",
    "    def __init__(self):\n",
    "        # Configure the window size\n",
    "        loadPrcFileData(\"\", \"win-size 1280 720\")\n",
    "        \n",
    "        super().__init__()\n",
    "        \n",
    "        # Initialize PBR pipeline\n",
    "        simplepbr.init()\n",
    "        \n",
    "        # Load the glTF model as an actor\n",
    "        self.model = Actor(r\"D:\\arenk\\Projects\\AIAssistant\\art\\floating_fox\\scene.gltf\")\n",
    "        self.model.reparent_to(self.render)\n",
    "        \n",
    "        # If your model has animations, you can play them like this:\n",
    "        if self.model.get_num_animations() > 0:\n",
    "            self.model.loop(\"AnimationName\")  # Replace \"AnimationName\" with your animation's name\n",
    "        \n",
    "        # Set up camera\n",
    "        self.cam.set_pos(0, -5, 2)\n",
    "        self.cam.look_at(0, 0, 0)\n",
    "        \n",
    "        # Add orbital camera control\n",
    "        self.disable_mouse()\n",
    "        self.camController = self.cam.attach_new_node(\"camController\")\n",
    "        self.cam.reparent_to(self.camController)\n",
    "        self.mouseTask = self.taskMgr.add(self.mouseTask, \"mouseTask\")\n",
    "        self.accept(\"wheel_up\", self.zoomIn)\n",
    "        self.accept(\"wheel_down\", self.zoomOut)\n",
    "\n",
    "    def mouseTask(self, task):\n",
    "        if self.mouseWatcherNode.has_mouse():\n",
    "            x, y = self.mouseWatcherNode.get_mouse()\n",
    "            if self.mouseWatcherNode.is_button_down(1):  # Left mouse button\n",
    "                self.camController.set_h(self.camController.get_h() - x * 100)\n",
    "                self.camController.set_p(self.camController.get_p() - y * 100)\n",
    "        return task.cont\n",
    "\n",
    "    def zoomIn(self):\n",
    "        self.cam.set_y(self.cam.get_y() * 0.9)\n",
    "\n",
    "    def zoomOut(self):\n",
    "        self.cam.set_y(self.cam.get_y() * 1.1)\n",
    "\n",
    "app = MyApp()\n",
    "app.run()"
   ]
  }
 ],
 "metadata": {
  "kernelspec": {
   "display_name": ".venv",
   "language": "python",
   "name": "python3"
  },
  "language_info": {
   "codemirror_mode": {
    "name": "ipython",
    "version": 3
   },
   "file_extension": ".py",
   "mimetype": "text/x-python",
   "name": "python",
   "nbconvert_exporter": "python",
   "pygments_lexer": "ipython3",
   "version": "3.11.7"
  }
 },
 "nbformat": 4,
 "nbformat_minor": 2
}
