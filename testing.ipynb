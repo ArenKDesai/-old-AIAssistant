{
 "cells": [
  {
   "cell_type": "code",
   "execution_count": 13,
   "metadata": {},
   "outputs": [
    {
     "name": "stderr",
     "output_type": "stream",
     "text": [
      "/tmp/ipykernel_4309/512690947.py:44: DeprecationWarning: You're using 'as_dict = True'.get_access_token will return the token string directly in future versions. Please adjust your code accordingly, or use get_cached_token instead.\n",
      "  token_info = sp_oauth.get_access_token(code)\n"
     ]
    }
   ],
   "source": [
    "import spotipy\n",
    "from spotipy.oauth2 import SpotifyOAuth\n",
    "from KEYS import SPOTIPY_CLIENT_ID, SPOTIPY_CLIENT_SECRET, SPOTIPY_REDIRECT_URI\n",
    "import nest_asyncio\n",
    "import asyncio\n",
    "from pyppeteer import launch\n",
    "\n",
    "SCOPE = 'user-read-playback-state user-modify-playback-state user-read-currently-playing'\n",
    "\n",
    "# Create a SpotifyOAuth object\n",
    "sp_oauth = SpotifyOAuth(client_id=SPOTIPY_CLIENT_ID,\n",
    "                        client_secret=SPOTIPY_CLIENT_SECRET,\n",
    "                        redirect_uri=SPOTIPY_REDIRECT_URI,\n",
    "                        scope=SCOPE)\n",
    "\n",
    "# Get the authorization URL\n",
    "auth_url = sp_oauth.get_authorize_url()\n",
    "\n",
    "# Apply the nest_asyncio patch\n",
    "nest_asyncio.apply()\n",
    "\n",
    "def get_current_url():\n",
    "    async def main():\n",
    "        # Launch the browser\n",
    "        browser = await launch()\n",
    "        # Open a new page\n",
    "        page = await browser.newPage()\n",
    "        # Go to a webpage\n",
    "        await page.goto(auth_url)\n",
    "        # Get the current URL\n",
    "        current_url = page.url\n",
    "        # Close the browser\n",
    "        await browser.close()\n",
    "        return current_url\n",
    "\n",
    "    # Run the async function and get the result\n",
    "    return asyncio.get_event_loop().run_until_complete(main())\n",
    "\n",
    "# Use the function to get the current URL\n",
    "response = get_current_url()\n",
    "\n",
    "# Extract the authorization code from the URL\n",
    "code = sp_oauth.parse_response_code(response)\n",
    "token_info = sp_oauth.get_access_token(code)\n",
    "\n",
    "# Create a Spotify object with the access token\n",
    "sp = spotipy.Spotify(auth=token_info['access_token'])\n",
    "\n",
    "sp.volume(80)"
   ]
  }
 ],
 "metadata": {
  "kernelspec": {
   "display_name": ".venv",
   "language": "python",
   "name": "python3"
  },
  "language_info": {
   "codemirror_mode": {
    "name": "ipython",
    "version": 3
   },
   "file_extension": ".py",
   "mimetype": "text/x-python",
   "name": "python",
   "nbconvert_exporter": "python",
   "pygments_lexer": "ipython3",
   "version": "3.11.2"
  }
 },
 "nbformat": 4,
 "nbformat_minor": 2
}
